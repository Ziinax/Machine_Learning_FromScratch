{
 "cells": [
  {
   "cell_type": "code",
   "execution_count": 1,
   "metadata": {},
   "outputs": [],
   "source": [
    "#Importing Libraries\n",
    "import numpy as np  \n",
    "import matplotlib.pyplot as plt\n",
    "import pandas as pd "
   ]
  },
  {
   "cell_type": "code",
   "execution_count": 2,
   "metadata": {},
   "outputs": [
    {
     "name": "stderr",
     "output_type": "stream",
     "text": [
      "H:\\Programme\\lib\\site-packages\\sklearn\\cross_validation.py:41: DeprecationWarning: This module was deprecated in version 0.18 in favor of the model_selection module into which all the refactored classes and functions are moved. Also note that the interface of the new CV iterators are different from that of this module. This module will be removed in 0.20.\n",
      "  \"This module will be removed in 0.20.\", DeprecationWarning)\n"
     ]
    }
   ],
   "source": [
    "# =============================================================================\n",
    "# Testing Linear Reagression With replacing the missing Data by ZERO\n",
    "# =============================================================================\n",
    "#Importing DataSet\n",
    "dataset = pd.read_csv(\"house_price_predict.csv\")\n",
    "dataset.drop(dataset.columns[0], axis=1)\n",
    "\n",
    "#Taking care about The Missing data\n",
    "X= dataset.iloc[:,:-1].fillna(0).values\n",
    "Y= dataset.iloc[:,14].values\n",
    "\n",
    "#Spliting Data Into Training And Test Sets\n",
    "from sklearn.cross_validation import train_test_split\n",
    "X_train, X_test, Y_train, Y_test = train_test_split(X, Y, test_size=0.2, random_state=0 )\n",
    "\n",
    "# Fitting Multiple Linear Regression to the Training set\n",
    "from sklearn.linear_model import LinearRegression\n",
    "regressor = LinearRegression()\n",
    "regressor.fit(X_train, Y_train)\n",
    "\n",
    "# Predicting the Test set results\n",
    "y_pred = regressor.predict(X_test)"
   ]
  },
  {
   "cell_type": "code",
   "execution_count": 3,
   "metadata": {},
   "outputs": [],
   "source": [
    "\n",
    "# =============================================================================\n",
    "# Testing Linear Reagression With replacing the missing Data by MEAN\n",
    "# =============================================================================\n",
    "#Importing DataSet\n",
    "\n",
    "X_mean= dataset.iloc[:,:-1].values\n",
    "Y_mean= dataset.iloc[:,14].values\n",
    "\n",
    "#Taking care about The Missing data\n",
    "from sklearn.preprocessing import Imputer \n",
    "imputer = Imputer(missing_values=\"NaN\", strategy=\"mean\", axis=0)\n",
    "imputer = imputer.fit(X_mean) \n",
    "X_mean = imputer.transform(X_mean)\n",
    "\n",
    "#Spliting Data Into Training And Test Sets\n",
    "from sklearn.cross_validation import train_test_split\n",
    "X_train_mean, X_test_mean, Y_train_mean, Y_test_mean = train_test_split(X_mean, Y_mean, test_size=0.2, random_state=0 )\n",
    "\n",
    "# Fitting Multiple Linear Regression to the Training set\n",
    "from sklearn.linear_model import LinearRegression\n",
    "regressor = LinearRegression()\n",
    "regressor.fit(X_train_mean, Y_train_mean)\n",
    "\n",
    "# Predicting the Test set results\n",
    "y_pred_mean = regressor.predict(X_test_mean)\n"
   ]
  },
  {
   "cell_type": "code",
   "execution_count": 4,
   "metadata": {},
   "outputs": [
    {
     "name": "stdout",
     "output_type": "stream",
     "text": [
      "mean squared error of the zero method=  44.61128311249066\n",
      "mean squared error of the mean method=  35.836530853436535\n"
     ]
    }
   ],
   "source": [
    "# =============================================================================\n",
    "# CONCLUSION :\n",
    "#   We could do the prediction with the two method (replacing the missing value\n",
    "#   by zero and by the mean) but we can clearly see that the prediction of the\n",
    "#   Mean remplaced value is more close to the real price as the ZERO relaced data\n",
    "#   prediction \n",
    "# =============================================================================\n",
    "\n",
    "from sklearn.metrics import mean_squared_error\n",
    "\n",
    "zero = mean_squared_error(Y_test,y_pred)\n",
    "mean = mean_squared_error(Y_test,y_pred_mean)\n",
    "\n",
    "print('mean squared error of the zero method= ',zero)\n",
    "print('mean squared error of the mean method= ',mean)\n",
    "\n"
   ]
  },
  {
   "cell_type": "code",
   "execution_count": null,
   "metadata": {},
   "outputs": [],
   "source": []
  }
 ],
 "metadata": {
  "kernelspec": {
   "display_name": "Python 3",
   "language": "python",
   "name": "python3"
  },
  "language_info": {
   "codemirror_mode": {
    "name": "ipython",
    "version": 3
   },
   "file_extension": ".py",
   "mimetype": "text/x-python",
   "name": "python",
   "nbconvert_exporter": "python",
   "pygments_lexer": "ipython3",
   "version": "3.6.4"
  }
 },
 "nbformat": 4,
 "nbformat_minor": 2
}
