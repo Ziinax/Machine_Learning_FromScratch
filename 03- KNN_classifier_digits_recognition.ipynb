{
 "cells": [
  {
   "cell_type": "code",
   "execution_count": 1,
   "metadata": {},
   "outputs": [
    {
     "name": "stdout",
     "output_type": "stream",
     "text": [
      "(1797, 64)\n",
      "(1797, 8, 8)\n"
     ]
    }
   ],
   "source": [
    "# Importing Library\n",
    "from sklearn.model_selection import train_test_split\n",
    "from sklearn.neighbors import KNeighborsClassifier\n",
    "from sklearn.metrics import accuracy_score\n",
    "import numpy as np\n",
    "import collections as c\n",
    "from sklearn import datasets\n",
    "import matplotlib.pyplot as plt\n",
    "from sklearn.metrics import classification_report, confusion_matrix\n",
    "\n",
    "# Importing data\n",
    "digits = datasets.load_digits()\n",
    "X_digits = digits.data\n",
    "y_digits = digits.target\n",
    "\n",
    "# Information about the shape and the size\n",
    "print(digits.data.shape)\n",
    "print (digits.images.shape)\n"
   ]
  },
  {
   "cell_type": "code",
   "execution_count": 3,
   "metadata": {},
   "outputs": [
    {
     "data": {
      "text/plain": [
       "<matplotlib.figure.Figure at 0x9819390>"
      ]
     },
     "metadata": {},
     "output_type": "display_data"
    },
    {
     "data": {
      "image/png": "[encoded data removed]",
      "text/plain": [
       "<matplotlib.figure.Figure at 0x9819400>"
      ]
     },
     "metadata": {},
     "output_type": "display_data"
    }
   ],
   "source": [
    " plt.gray() \n",
    " plt.matshow(digits.images[0]) \n",
    " plt.show() "
   ]
  },
  {
   "cell_type": "code",
   "execution_count": 4,
   "metadata": {},
   "outputs": [],
   "source": [
    "# =============================================================================\n",
    "#  Manual KNN Method\n",
    "# =============================================================================\n",
    "\n",
    "# Divide the data into TRAIN and TEST sets\n",
    "n_samples = len(X_digits)\n",
    "\n",
    "\n",
    "X_train = X_digits[:int(.9 * n_samples)]\n",
    "y_train = y_digits[:int(.9 * n_samples)]\n",
    "X_test = X_digits[int(.9 * n_samples):]\n",
    "y_test = y_digits[int(.9 * n_samples):]"
   ]
  },
  {
   "cell_type": "code",
   "execution_count": 5,
   "metadata": {},
   "outputs": [],
   "source": [
    "# Manual KNN function \n",
    "#==============================================================================\n",
    "\n",
    "def predict(X_train, y_train, x_test, k):\n",
    "\t# create list for distances and targets\n",
    "\tdistances = []\n",
    "\ttargets = []\n",
    "\n",
    "\tfor i in range(len(X_train)):\n",
    "\t\t# first we compute the euclidean distance\n",
    "\t\tdistance = np.sqrt(np.sum(np.square(x_test - X_train[i, :])))\n",
    "\t\t# add it to list of distances\n",
    "\t\tdistances.append([distance, i])\n",
    "\n",
    "\t# sort the list\n",
    "\tdistances = sorted(distances)\n",
    "\n",
    "\t# make a list of the k neighbors' targets\n",
    "\tfor i in range(k):\n",
    "\t\tindex = distances[i][1]\n",
    "\t\ttargets.append(y_train[index])\n",
    "\n",
    "\t# return most common target\n",
    "\treturn c.Counter(targets).most_common(1)[0][0]\n",
    "\n",
    "def kNearestNeighbor(X_train, y_train, X_test, predictions, k):\n",
    "\t# check if k larger than n\n",
    "\tif k > len(X_train):\n",
    "\t\traise ValueError\n",
    "\n",
    "\t# predict for each testing observation\n",
    "\tfor i in range(len(X_test)):\n",
    "\t\tpredictions.append(predict(X_train, y_train, X_test[i, :], k))\n",
    "        \n",
    "#==============================================================================\t\t\n"
   ]
  },
  {
   "cell_type": "code",
   "execution_count": 6,
   "metadata": {},
   "outputs": [
    {
     "name": "stdout",
     "output_type": "stream",
     "text": [
      "\n",
      "The accuracy of OUR classifier is 96%\n"
     ]
    }
   ],
   "source": [
    "# making our predictions \n",
    "predictions = []\n",
    "try:\n",
    "\tkNearestNeighbor(X_train, y_train, X_test, predictions, 7)#number to change\n",
    "\tpredictions = np.asarray(predictions)\n",
    "\n",
    "\t# evaluating accuracy\n",
    "\taccuracy = accuracy_score(y_test, predictions) * 100\n",
    "\tprint('\\nThe accuracy of OUR classifier is %d%%' % accuracy)\n",
    "\n",
    "except ValueError:\n",
    "\tprint('Can\\'t have more neighbors than training samples!!')\n",
    "    "
   ]
  },
  {
   "cell_type": "code",
   "execution_count": 10,
   "metadata": {},
   "outputs": [
    {
     "name": "stdout",
     "output_type": "stream",
     "text": [
      "Optimal K Value is:  4\n"
     ]
    }
   ],
   "source": [
    "# SEARCHING FOR OPTIMAL K VALUE:\n",
    "\n",
    "# list of possible K values\n",
    "kList = list(range(1, 25, 1))\n",
    "\n",
    "# empty list for storing scores\n",
    "scores = []\n",
    "\n",
    "# run knn with diferent K values\n",
    "for k in kList:\n",
    "    predictions = []\n",
    "    kNearestNeighbor(X_train, y_train, X_test, predictions, k)\n",
    "    accuracy = accuracy_score(y_test, predictions)\n",
    "    scores.append(accuracy)\n",
    "\n",
    "# determining best K\n",
    "optimalK = scores.index(max(scores)) + 1\n",
    "print('Optimal K Value is: ', optimalK)"
   ]
  },
  {
   "cell_type": "code",
   "execution_count": 11,
   "metadata": {},
   "outputs": [
    {
     "data": {
      "image/png": "[encoded data removed]",
      "text/plain": [
       "<matplotlib.figure.Figure at 0x95f1e10>"
      ]
     },
     "metadata": {},
     "output_type": "display_data"
    }
   ],
   "source": [
    "# plot results\n",
    "plt.plot(kList, scores)\n",
    "plt.xlabel('# of Neighbors - K')\n",
    "plt.ylabel('Accuracy')\n",
    "plt.show()"
   ]
  },
  {
   "cell_type": "code",
   "execution_count": 12,
   "metadata": {},
   "outputs": [
    {
     "name": "stdout",
     "output_type": "stream",
     "text": [
      "\n",
      "The accuracy of OUR classifier is 97%\n"
     ]
    }
   ],
   "source": [
    "# making our predictions With The new Value of K\n",
    "predictions = []\n",
    "try:\n",
    "\tkNearestNeighbor(X_train, y_train, X_test, predictions, optimalK)\n",
    "\tpredictions = np.asarray(predictions)\n",
    "\n",
    "\t# evaluating accuracy\n",
    "\taccuracy = accuracy_score(y_test, predictions) * 100\n",
    "\tprint('\\nThe accuracy of OUR classifier is %d%%' % accuracy)\n",
    "\n",
    "except ValueError:\n",
    "   print('Can\\'t have more neighbors than training samples!!')"
   ]
  },
  {
   "cell_type": "code",
   "execution_count": 13,
   "metadata": {},
   "outputs": [
    {
     "name": "stdout",
     "output_type": "stream",
     "text": [
      "EVALUATION ON TESTING DATA\n",
      "             precision    recall  f1-score   support\n",
      "\n",
      "          0       1.00      1.00      1.00        16\n",
      "          1       0.95      1.00      0.97        19\n",
      "          2       1.00      1.00      1.00        17\n",
      "          3       0.94      0.89      0.91        18\n",
      "          4       1.00      1.00      1.00        20\n",
      "          5       0.90      1.00      0.95        18\n",
      "          6       1.00      1.00      1.00        18\n",
      "          7       1.00      1.00      1.00        19\n",
      "          8       0.94      0.94      0.94        17\n",
      "          9       1.00      0.89      0.94        18\n",
      "\n",
      "avg / total       0.97      0.97      0.97       180\n",
      "\n",
      "CONFUSION MATRIX ON TESTING DATA\n",
      "[[16  0  0  0  0  0  0  0  0  0]\n",
      " [ 0 19  0  0  0  0  0  0  0  0]\n",
      " [ 0  0 17  0  0  0  0  0  0  0]\n",
      " [ 0  0  0 16  0  1  0  0  1  0]\n",
      " [ 0  0  0  0 20  0  0  0  0  0]\n",
      " [ 0  0  0  0  0 18  0  0  0  0]\n",
      " [ 0  0  0  0  0  0 18  0  0  0]\n",
      " [ 0  0  0  0  0  0  0 19  0  0]\n",
      " [ 0  1  0  0  0  0  0  0 16  0]\n",
      " [ 0  0  0  1  0  1  0  0  0 16]]\n"
     ]
    }
   ],
   "source": [
    "# Evaluate performance of model for each of the digits\n",
    "print(\"EVALUATION ON TESTING DATA\")\n",
    "print(classification_report(y_test, predictions))\n",
    "print(\"CONFUSION MATRIX ON TESTING DATA\")\n",
    "print(confusion_matrix(y_test,predictions))\n"
   ]
  },
  {
   "cell_type": "code",
   "execution_count": 14,
   "metadata": {},
   "outputs": [],
   "source": [
    "# =============================================================================\n",
    "#   Sklearn KNN \n",
    "# =============================================================================\n",
    "\n",
    "# Training and testing split,\n",
    "# 75% for training and 25% for testing\n",
    "(trainData, testData, trainLabels, testLabels) = train_test_split(np.array(digits.data), digits.target, test_size=0.25, random_state=42)\n",
    "\n"
   ]
  },
  {
   "cell_type": "code",
   "execution_count": 15,
   "metadata": {},
   "outputs": [
    {
     "name": "stdout",
     "output_type": "stream",
     "text": [
      "k=1, accuracy=98.22%\n",
      "k=3, accuracy=98.67%\n",
      "k=5, accuracy=99.33%\n",
      "k=7, accuracy=99.33%\n",
      "k=9, accuracy=98.67%\n",
      "k=11, accuracy=98.00%\n",
      "k=13, accuracy=98.00%\n",
      "k=15, accuracy=98.22%\n",
      "k=17, accuracy=98.00%\n",
      "k=19, accuracy=97.78%\n",
      "k=21, accuracy=97.78%\n",
      "k=23, accuracy=97.78%\n",
      "k=25, accuracy=97.33%\n",
      "k=27, accuracy=97.11%\n",
      "k=29, accuracy=97.11%\n",
      "k=5 achieved highest accuracy of 99.33% on validation data\n"
     ]
    }
   ],
   "source": [
    "# initialize the values of k for our k-Nearest Neighbor classifier along with the\n",
    "# list of accuracies for each value of k\n",
    "kVals = range(1, 30, 2)\n",
    "accuracies = []\n",
    "\n",
    "# loop over kVals\n",
    "for k in range(1, 30, 2):\n",
    "    # train the classifier with the current value of `k`\n",
    "    model = KNeighborsClassifier(n_neighbors=k)\n",
    "    model.fit(trainData, trainLabels)\n",
    "\n",
    "    # evaluate the model and print the accuracies list\n",
    "    score = model.score(testData, testLabels)\n",
    "    print(\"k=%d, accuracy=%.2f%%\" % (k, score * 100))\n",
    "    accuracies.append(score)\n",
    "\n",
    "# largest accuracy\n",
    "# np.argmax returns the indices of the maximum values along an axis\n",
    "i = np.argmax(accuracies)\n",
    "print(\"k=%d achieved highest accuracy of %.2f%% on validation data\" % (kVals[i],\n",
    "    accuracies[i] * 100))\n"
   ]
  },
  {
   "cell_type": "code",
   "execution_count": 16,
   "metadata": {},
   "outputs": [],
   "source": [
    "# Now re-train the classifier With the best K\n",
    "model = KNeighborsClassifier(n_neighbors=kVals[i])\n",
    "model.fit(trainData, trainLabels)\n",
    "\n",
    "# Predict labels for the test set\n",
    "predictions = model.predict(testData)"
   ]
  },
  {
   "cell_type": "code",
   "execution_count": 18,
   "metadata": {},
   "outputs": [
    {
     "name": "stdout",
     "output_type": "stream",
     "text": [
      "EVALUATION ON TESTING DATA\n",
      "             precision    recall  f1-score   support\n",
      "\n",
      "          0       1.00      1.00      1.00        43\n",
      "          1       1.00      1.00      1.00        37\n",
      "          2       1.00      1.00      1.00        38\n",
      "          3       1.00      1.00      1.00        46\n",
      "          4       0.98      1.00      0.99        55\n",
      "          5       0.98      0.98      0.98        59\n",
      "          6       1.00      1.00      1.00        45\n",
      "          7       1.00      1.00      1.00        41\n",
      "          8       1.00      1.00      1.00        38\n",
      "          9       0.98      0.96      0.97        48\n",
      "\n",
      "avg / total       0.99      0.99      0.99       450\n",
      "\n",
      "CONFUSION MATRIX ON TESTING DATA\n",
      "[[43  0  0  0  0  0  0  0  0  0]\n",
      " [ 0 37  0  0  0  0  0  0  0  0]\n",
      " [ 0  0 38  0  0  0  0  0  0  0]\n",
      " [ 0  0  0 46  0  0  0  0  0  0]\n",
      " [ 0  0  0  0 55  0  0  0  0  0]\n",
      " [ 0  0  0  0  0 58  0  0  0  1]\n",
      " [ 0  0  0  0  0  0 45  0  0  0]\n",
      " [ 0  0  0  0  0  0  0 41  0  0]\n",
      " [ 0  0  0  0  0  0  0  0 38  0]\n",
      " [ 0  0  0  0  1  1  0  0  0 46]]\n"
     ]
    }
   ],
   "source": [
    "# Evaluate performance of model for each of the digits\n",
    "print(\"EVALUATION ON TESTING DATA\")\n",
    "print(classification_report(testLabels, predictions))\n",
    "print(\"CONFUSION MATRIX ON TESTING DATA\")\n",
    "print(confusion_matrix(testLabels,predictions))"
   ]
  },
  {
   "cell_type": "code",
   "execution_count": null,
   "metadata": {},
   "outputs": [],
   "source": []
  }
 ],
 "metadata": {
  "kernelspec": {
   "display_name": "Python 3",
   "language": "python",
   "name": "python3"
  },
  "language_info": {
   "codemirror_mode": {
    "name": "ipython",
    "version": 3
   },
   "file_extension": ".py",
   "mimetype": "text/x-python",
   "name": "python",
   "nbconvert_exporter": "python",
   "pygments_lexer": "ipython3",
   "version": "3.6.4"
  }
 },
 "nbformat": 4,
 "nbformat_minor": 2
}
