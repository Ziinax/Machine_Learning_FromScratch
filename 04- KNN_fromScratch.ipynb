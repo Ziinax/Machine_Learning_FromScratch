{
 "cells": [
  {
   "cell_type": "code",
   "execution_count": 1,
   "metadata": {},
   "outputs": [],
   "source": [
    "from numpy import linalg\n",
    "import numpy as np\n",
    "import pandas as pd\n",
    "from sklearn import neighbors\n",
    "from sklearn import model_selection\n",
    "from sklearn import datasets\n",
    "from sklearn.base import BaseEstimator, ClassifierMixin\n",
    "import sklearn as skl\n",
    "from sklearn.linear_model import LinearRegression\n",
    "from sklearn.model_selection import train_test_split\n",
    "%matplotlib inline\n",
    "import matplotlib.pyplot as plt\n",
    "import random"
   ]
  },
  {
   "cell_type": "code",
   "execution_count": 2,
   "metadata": {},
   "outputs": [],
   "source": [
    "#loading data\n",
    "digits = skl.datasets.load_digits()"
   ]
  },
  {
   "cell_type": "code",
   "execution_count": 3,
   "metadata": {},
   "outputs": [],
   "source": [
    "#implementing kNN classifier\n",
    "class knn(BaseEstimator, ClassifierMixin):\n",
    "    def __init__(self, k=3, metric=lambda a, b: np.linalg.norm(a-b)):\n",
    "        self.k = k\n",
    "        self.metric = metric\n",
    "        pass\n",
    "    \n",
    "    def fit(self, X, y):\n",
    "        #data is expected to be numpy array or similar\n",
    "        self._data_ = X.copy()\n",
    "        self._targets_ = y.copy()\n",
    "        self._weights_ = [0]*len(X)\n",
    "        flag = True\n",
    "        counter = 0\n",
    "        while flag:\n",
    "            i = random.randint(0, len(X)-1)\n",
    "            y_ = self.predict_one(self._data_[i])\n",
    "            self._weights_[i] += 1 if y_ != self._targets_[i] else 0\n",
    "            \n",
    "            counter += 1\n",
    "            if counter == 700:\n",
    "                counter = 0\n",
    "                y_ = self.predict(X)\n",
    "                buff = 0\n",
    "                for y1, y2 in zip(y, y_):\n",
    "                    buff += 0 if y1 == y2 else 1\n",
    "                buff /= len(y)\n",
    "                flag = (buff > 0.005)\n",
    "                print(buff)\n",
    "        return self\n",
    "    \n",
    "    def predict(self, sample):\n",
    "        return [self.predict_one(s) for s in sample]\n",
    "    def predict_one(self, sample):\n",
    "        buff = [(self.metric(sample, neighbour), target, weight) \n",
    "                for neighbour, target, weight in zip(self._data_, self._targets_, self._weights_)]\n",
    "        buff.sort(key = lambda element: element[0])\n",
    "        labels = [0]*10\n",
    "        for dist, label, weight in buff[:self.k]:\n",
    "            labels[label] += weight*(1/(1+dist))\n",
    "        return np.argmax(labels)\n",
    "    def score(self, X, y):\n",
    "        y_ = predict(X)\n",
    "        buff = 0\n",
    "        for y1, y2 in zip(y, y_):\n",
    "            buff += 0 if y1 == y2 else 1\n",
    "        buff /= len(y)\n",
    "        return buff"
   ]
  },
  {
   "cell_type": "code",
   "execution_count": 4,
   "metadata": {},
   "outputs": [],
   "source": [
    "#6. splitting data on test and train\n",
    "def split(test_size):\n",
    "    train_data, test_data, train_targets, test_targets = skl.model_selection.train_test_split(digits.data, digits.target, test_size=test_size)\n",
    "    return train_data, test_data, train_targets, test_targets"
   ]
  },
  {
   "cell_type": "code",
   "execution_count": 5,
   "metadata": {},
   "outputs": [],
   "source": [
    "#7. fitting the classifier on data\n",
    "def fit(classifier_class, k, train_data, train_targets):\n",
    "    cl = classifier_class(k, metric=lambda a, b: np.linalg.norm(a-b))\n",
    "    cl.fit(train_data, train_targets)\n",
    "    return cl"
   ]
  },
  {
   "cell_type": "code",
   "execution_count": 6,
   "metadata": {},
   "outputs": [],
   "source": [
    "#8. testing the classifier using confusion matrix\n",
    "def test(classifier, test_data, test_targets):\n",
    "    conf_matr = np.zeros((10, 10)) #predicted, actual\n",
    "    for sample, target in zip(test_data, test_targets):\n",
    "        prediction = classifier.predict([sample])\n",
    "        conf_matr[prediction, target] += 1\n",
    "\n",
    "    print(conf_matr)\n",
    "\n",
    "    fig = plt.figure()\n",
    "    plt.clf()\n",
    "    ax = fig.add_subplot(111)\n",
    "    ax.set_aspect(1)\n",
    "    res = ax.imshow(conf_matr, cmap=plt.cm.jet, \n",
    "                    interpolation='nearest')"
   ]
  },
  {
   "cell_type": "code",
   "execution_count": 7,
   "metadata": {},
   "outputs": [],
   "source": [
    "#utility function\n",
    "def combine(test_size, k, classifier_class):\n",
    "    train_data, test_data, train_targets, test_targets = split(test_size)\n",
    "    cl = fit(classifier_class, k, train_data, train_targets)\n",
    "    test(cl, test_data, test_targets)"
   ]
  },
  {
   "cell_type": "code",
   "execution_count": 12,
   "metadata": {},
   "outputs": [
    {
     "name": "stdout",
     "output_type": "stream",
     "text": [
      "0.29684601113172543\n",
      "0.13172541743970315\n",
      "0.0655534941249227\n",
      "0.03525046382189239\n",
      "0.016697588126159554\n",
      "0.008039579468150896\n",
      "0.004947433518862091\n",
      "[[20.  1.  1.  1.  3.  2.  1.  1.  4.  1.]\n",
      " [ 0. 24.  0.  0.  0.  0.  0.  0.  0.  0.]\n",
      " [ 0.  0. 15.  0.  0.  0.  0.  0.  0.  0.]\n",
      " [ 0.  0.  0. 11.  0.  0.  0.  0.  0.  0.]\n",
      " [ 0.  0.  0.  0. 14.  0.  0.  0.  0.  0.]\n",
      " [ 0.  0.  0.  0.  0. 15.  0.  0.  0.  1.]\n",
      " [ 0.  0.  0.  0.  0.  0. 20.  0.  0.  0.]\n",
      " [ 0.  0.  0.  0.  0.  0.  0. 15.  0.  0.]\n",
      " [ 0.  0.  0.  0.  0.  0.  0.  0. 13.  0.]\n",
      " [ 0.  0.  0.  0.  0.  0.  0.  0.  0. 17.]]\n"
     ]
    },
    {
     "data": {
      "image/png": "[encoded data removed]",
      "text/plain": [
       "<matplotlib.figure.Figure at 0xaf6eba8>"
      ]
     },
     "metadata": {},
     "output_type": "display_data"
    }
   ],
   "source": [
    "#9. investigating different parameters\n",
    "combine(0.1, 3, knn)"
   ]
  },
  {
   "cell_type": "code",
   "execution_count": null,
   "metadata": {
    "collapsed": true
   },
   "outputs": [],
   "source": []
  },
  {
   "cell_type": "code",
   "execution_count": 9,
   "metadata": {},
   "outputs": [
    {
     "name": "stdout",
     "output_type": "stream",
     "text": [
      "[[16.  0.  0.  0.  0.  0.  0.  0.  0.  0.]\n",
      " [ 0. 17.  0.  0.  0.  0.  0.  0.  0.  0.]\n",
      " [ 0.  0. 19.  0.  0.  0.  0.  0.  0.  0.]\n",
      " [ 0.  0.  0. 23.  0.  0.  0.  0.  0.  1.]\n",
      " [ 0.  0.  0.  0. 18.  0.  0.  0.  0.  0.]\n",
      " [ 0.  0.  0.  0.  0. 16.  0.  0.  0.  0.]\n",
      " [ 0.  0.  0.  0.  0.  0. 12.  0.  0.  0.]\n",
      " [ 0.  0.  0.  0.  0.  0.  0. 25.  0.  0.]\n",
      " [ 0.  0.  0.  0.  0.  0.  0.  0. 14.  0.]\n",
      " [ 0.  0.  0.  0.  0.  0.  0.  0.  0. 19.]]\n"
     ]
    },
    {
     "data": {
      "image/png": "[encoded data removed]",
      "text/plain": [
       "<matplotlib.figure.Figure at 0xae81908>"
      ]
     },
     "metadata": {},
     "output_type": "display_data"
    }
   ],
   "source": [
    "#10. checking out sklearn kNN\n",
    "combine(0.1, 3, skl.neighbors.KNeighborsClassifier)"
   ]
  },
  {
   "cell_type": "code",
   "execution_count": null,
   "metadata": {
    "collapsed": true
   },
   "outputs": [],
   "source": []
  }
 ],
 "metadata": {
  "kernelspec": {
   "display_name": "Python 3",
   "language": "python",
   "name": "python3"
  },
  "language_info": {
   "codemirror_mode": {
    "name": "ipython",
    "version": 3
   },
   "file_extension": ".py",
   "mimetype": "text/x-python",
   "name": "python",
   "nbconvert_exporter": "python",
   "pygments_lexer": "ipython3",
   "version": "3.6.4"
  }
 },
 "nbformat": 4,
 "nbformat_minor": 2
}
