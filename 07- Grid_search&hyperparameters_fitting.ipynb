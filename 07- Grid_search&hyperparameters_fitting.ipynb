{
 "cells": [
  {
   "cell_type": "code",
   "execution_count": 1,
   "metadata": {},
   "outputs": [],
   "source": [
    "\n",
    "# =============================================================================\n",
    "# # Import Library\n",
    "# =============================================================================\n",
    "import pandas as pd\n",
    "from sklearn.model_selection import GridSearchCV \n",
    "from sklearn.neighbors import KNeighborsClassifier\n",
    "from sklearn.tree import DecisionTreeClassifier\n",
    "from sklearn.svm import SVC\n"
   ]
  },
  {
   "cell_type": "code",
   "execution_count": 2,
   "metadata": {},
   "outputs": [],
   "source": [
    "# =============================================================================\n",
    "# # Import Data\n",
    "# =============================================================================\n",
    "data = pd.read_csv('lab7_data.csv', sep='\\t', decimal=',')"
   ]
  },
  {
   "cell_type": "code",
   "execution_count": 3,
   "metadata": {},
   "outputs": [
    {
     "data": {
      "text/html": [
       "<div>\n",
       "<style scoped>\n",
       "    .dataframe tbody tr th:only-of-type {\n",
       "        vertical-align: middle;\n",
       "    }\n",
       "\n",
       "    .dataframe tbody tr th {\n",
       "        vertical-align: top;\n",
       "    }\n",
       "\n",
       "    .dataframe thead th {\n",
       "        text-align: right;\n",
       "    }\n",
       "</style>\n",
       "<table border=\"1\" class=\"dataframe\">\n",
       "  <thead>\n",
       "    <tr style=\"text-align: right;\">\n",
       "      <th></th>\n",
       "      <th>Unnamed: 0</th>\n",
       "      <th>contract_id</th>\n",
       "      <th>cnt_blocks_1m</th>\n",
       "      <th>cnt_blocks_2m</th>\n",
       "      <th>cnt_blocks_3m</th>\n",
       "      <th>cnt_blocks_2m_sum</th>\n",
       "      <th>cnt_blocks_3m_sum</th>\n",
       "      <th>ratio_cnt_blocks_2m</th>\n",
       "      <th>ratio_cnt_blocks_3m</th>\n",
       "      <th>avg_block_3m</th>\n",
       "      <th>...</th>\n",
       "      <th>avg_daily_traffic_4w</th>\n",
       "      <th>avg_traffic_per_session_1m</th>\n",
       "      <th>avg_traffic_per_session_2m</th>\n",
       "      <th>avg_traffic_per_session_3m</th>\n",
       "      <th>avg_traffic_per_session_1w</th>\n",
       "      <th>avg_traffic_per_session_2w</th>\n",
       "      <th>avg_traffic_per_session_3w</th>\n",
       "      <th>avg_traffic_per_session_4w</th>\n",
       "      <th>ARPU</th>\n",
       "      <th>churn</th>\n",
       "    </tr>\n",
       "  </thead>\n",
       "  <tbody>\n",
       "    <tr>\n",
       "      <th>0</th>\n",
       "      <td>0</td>\n",
       "      <td>4965</td>\n",
       "      <td>0</td>\n",
       "      <td>3</td>\n",
       "      <td>1</td>\n",
       "      <td>3</td>\n",
       "      <td>4</td>\n",
       "      <td>0.777977</td>\n",
       "      <td>0.000000</td>\n",
       "      <td>521</td>\n",
       "      <td>...</td>\n",
       "      <td>0.000000</td>\n",
       "      <td>0.000182</td>\n",
       "      <td>0.001800</td>\n",
       "      <td>0.000000</td>\n",
       "      <td>0.000046</td>\n",
       "      <td>0.001666</td>\n",
       "      <td>0.000000</td>\n",
       "      <td>0.000000</td>\n",
       "      <td>890.000000</td>\n",
       "      <td>1</td>\n",
       "    </tr>\n",
       "    <tr>\n",
       "      <th>1</th>\n",
       "      <td>1</td>\n",
       "      <td>4974</td>\n",
       "      <td>0</td>\n",
       "      <td>6</td>\n",
       "      <td>0</td>\n",
       "      <td>6</td>\n",
       "      <td>6</td>\n",
       "      <td>1.000000</td>\n",
       "      <td>0.415613</td>\n",
       "      <td>474</td>\n",
       "      <td>...</td>\n",
       "      <td>4.318102</td>\n",
       "      <td>0.000312</td>\n",
       "      <td>0.000319</td>\n",
       "      <td>0.000201</td>\n",
       "      <td>0.000165</td>\n",
       "      <td>0.002317</td>\n",
       "      <td>0.000000</td>\n",
       "      <td>0.001118</td>\n",
       "      <td>538.000000</td>\n",
       "      <td>1</td>\n",
       "    </tr>\n",
       "    <tr>\n",
       "      <th>2</th>\n",
       "      <td>2</td>\n",
       "      <td>2018</td>\n",
       "      <td>0</td>\n",
       "      <td>0</td>\n",
       "      <td>0</td>\n",
       "      <td>0</td>\n",
       "      <td>0</td>\n",
       "      <td>0.744709</td>\n",
       "      <td>0.436665</td>\n",
       "      <td>0</td>\n",
       "      <td>...</td>\n",
       "      <td>0.000000</td>\n",
       "      <td>0.000181</td>\n",
       "      <td>0.000010</td>\n",
       "      <td>0.000262</td>\n",
       "      <td>0.000000</td>\n",
       "      <td>0.000092</td>\n",
       "      <td>0.000000</td>\n",
       "      <td>0.000000</td>\n",
       "      <td>1340.000000</td>\n",
       "      <td>0</td>\n",
       "    </tr>\n",
       "    <tr>\n",
       "      <th>3</th>\n",
       "      <td>3</td>\n",
       "      <td>2628</td>\n",
       "      <td>1</td>\n",
       "      <td>0</td>\n",
       "      <td>0</td>\n",
       "      <td>1</td>\n",
       "      <td>1</td>\n",
       "      <td>0.000000</td>\n",
       "      <td>0.702495</td>\n",
       "      <td>166</td>\n",
       "      <td>...</td>\n",
       "      <td>0.000000</td>\n",
       "      <td>0.000000</td>\n",
       "      <td>0.000000</td>\n",
       "      <td>0.000083</td>\n",
       "      <td>0.000000</td>\n",
       "      <td>0.002070</td>\n",
       "      <td>0.000592</td>\n",
       "      <td>0.000000</td>\n",
       "      <td>153.688502</td>\n",
       "      <td>1</td>\n",
       "    </tr>\n",
       "    <tr>\n",
       "      <th>4</th>\n",
       "      <td>4</td>\n",
       "      <td>3336</td>\n",
       "      <td>0</td>\n",
       "      <td>0</td>\n",
       "      <td>0</td>\n",
       "      <td>0</td>\n",
       "      <td>0</td>\n",
       "      <td>0.000000</td>\n",
       "      <td>1.000000</td>\n",
       "      <td>780</td>\n",
       "      <td>...</td>\n",
       "      <td>1.601099</td>\n",
       "      <td>0.000000</td>\n",
       "      <td>0.000000</td>\n",
       "      <td>0.000243</td>\n",
       "      <td>0.000371</td>\n",
       "      <td>0.001504</td>\n",
       "      <td>0.000000</td>\n",
       "      <td>0.000000</td>\n",
       "      <td>1046.000000</td>\n",
       "      <td>1</td>\n",
       "    </tr>\n",
       "  </tbody>\n",
       "</table>\n",
       "<p>5 rows × 84 columns</p>\n",
       "</div>"
      ],
      "text/plain": [
       "   Unnamed: 0  contract_id  cnt_blocks_1m  cnt_blocks_2m  cnt_blocks_3m  \\\n",
       "0           0         4965              0              3              1   \n",
       "1           1         4974              0              6              0   \n",
       "2           2         2018              0              0              0   \n",
       "3           3         2628              1              0              0   \n",
       "4           4         3336              0              0              0   \n",
       "\n",
       "   cnt_blocks_2m_sum  cnt_blocks_3m_sum  ratio_cnt_blocks_2m  \\\n",
       "0                  3                  4             0.777977   \n",
       "1                  6                  6             1.000000   \n",
       "2                  0                  0             0.744709   \n",
       "3                  1                  1             0.000000   \n",
       "4                  0                  0             0.000000   \n",
       "\n",
       "   ratio_cnt_blocks_3m  avg_block_3m  ...    avg_daily_traffic_4w  \\\n",
       "0             0.000000           521  ...                0.000000   \n",
       "1             0.415613           474  ...                4.318102   \n",
       "2             0.436665             0  ...                0.000000   \n",
       "3             0.702495           166  ...                0.000000   \n",
       "4             1.000000           780  ...                1.601099   \n",
       "\n",
       "   avg_traffic_per_session_1m  avg_traffic_per_session_2m  \\\n",
       "0                    0.000182                    0.001800   \n",
       "1                    0.000312                    0.000319   \n",
       "2                    0.000181                    0.000010   \n",
       "3                    0.000000                    0.000000   \n",
       "4                    0.000000                    0.000000   \n",
       "\n",
       "   avg_traffic_per_session_3m  avg_traffic_per_session_1w  \\\n",
       "0                    0.000000                    0.000046   \n",
       "1                    0.000201                    0.000165   \n",
       "2                    0.000262                    0.000000   \n",
       "3                    0.000083                    0.000000   \n",
       "4                    0.000243                    0.000371   \n",
       "\n",
       "   avg_traffic_per_session_2w  avg_traffic_per_session_3w  \\\n",
       "0                    0.001666                    0.000000   \n",
       "1                    0.002317                    0.000000   \n",
       "2                    0.000092                    0.000000   \n",
       "3                    0.002070                    0.000592   \n",
       "4                    0.001504                    0.000000   \n",
       "\n",
       "   avg_traffic_per_session_4w         ARPU  churn  \n",
       "0                    0.000000   890.000000      1  \n",
       "1                    0.001118   538.000000      1  \n",
       "2                    0.000000  1340.000000      0  \n",
       "3                    0.000000   153.688502      1  \n",
       "4                    0.000000  1046.000000      1  \n",
       "\n",
       "[5 rows x 84 columns]"
      ]
     },
     "execution_count": 3,
     "metadata": {},
     "output_type": "execute_result"
    }
   ],
   "source": [
    "# =============================================================================\n",
    "# # Information \n",
    "# =============================================================================\n",
    "data.head()\n"
   ]
  },
  {
   "cell_type": "code",
   "execution_count": 8,
   "metadata": {},
   "outputs": [],
   "source": [
    "# =============================================================================\n",
    "# # Create instance of Classifier and their parameter\n",
    "# =============================================================================\n",
    "# SVC \n",
    "svc = SVC()\n",
    "svc_params = {'kernel':('sigmoid', 'rbf'), 'C':[1, 10]}\n",
    "# Decision Tree\n",
    "tree = DecisionTreeClassifier()\n",
    "tree_params = {'max_depth':range(2,6), 'criterion':('gini','entropy')}\n",
    "# Knn\n",
    "neighb = KNeighborsClassifier()\n",
    "neighb_params = {'n_neighbors':range(1,10)}\n"
   ]
  },
  {
   "cell_type": "code",
   "execution_count": 11,
   "metadata": {},
   "outputs": [],
   "source": [
    "# =============================================================================\n",
    "# # Grids set for instances of classes with the scoring - ROC_AUC\n",
    "# =============================================================================\n",
    "# For Svc\n",
    "grid_svc = GridSearchCV(svc, svc_params, scoring='roc_auc', verbose=1)\n",
    "# For Decision Tree\n",
    "grid_tree = GridSearchCV(tree, tree_params, scoring='roc_auc', verbose=1)\n",
    "# For Knn\n",
    "grid_neighb = GridSearchCV(neighb, neighb_params, scoring='roc_auc', verbose=1)"
   ]
  },
  {
   "cell_type": "code",
   "execution_count": 13,
   "metadata": {},
   "outputs": [
    {
     "name": "stdout",
     "output_type": "stream",
     "text": [
      "Fitting 3 folds for each of 4 candidates, totalling 12 fits\n"
     ]
    },
    {
     "name": "stderr",
     "output_type": "stream",
     "text": [
      "[Parallel(n_jobs=1)]: Done  12 out of  12 | elapsed:   14.0s finished\n"
     ]
    },
    {
     "name": "stdout",
     "output_type": "stream",
     "text": [
      "Fitting 3 folds for each of 8 candidates, totalling 24 fits\n"
     ]
    },
    {
     "name": "stderr",
     "output_type": "stream",
     "text": [
      "[Parallel(n_jobs=1)]: Done  24 out of  24 | elapsed:    1.1s finished\n"
     ]
    },
    {
     "name": "stdout",
     "output_type": "stream",
     "text": [
      "Fitting 3 folds for each of 9 candidates, totalling 27 fits\n"
     ]
    },
    {
     "name": "stderr",
     "output_type": "stream",
     "text": [
      "[Parallel(n_jobs=1)]: Done  27 out of  27 | elapsed:    4.6s finished\n"
     ]
    },
    {
     "data": {
      "text/plain": [
       "GridSearchCV(cv=None, error_score='raise',\n",
       "       estimator=KNeighborsClassifier(algorithm='auto', leaf_size=30, metric='minkowski',\n",
       "           metric_params=None, n_jobs=1, n_neighbors=5, p=2,\n",
       "           weights='uniform'),\n",
       "       fit_params=None, iid=True, n_jobs=1,\n",
       "       param_grid={'n_neighbors': range(1, 10)}, pre_dispatch='2*n_jobs',\n",
       "       refit=True, return_train_score='warn', scoring='roc_auc', verbose=1)"
      ]
     },
     "execution_count": 13,
     "metadata": {},
     "output_type": "execute_result"
    }
   ],
   "source": [
    "# =============================================================================\n",
    "# # Fitting the classifier with their Parameters\n",
    "# =============================================================================\n",
    "# For Svc\n",
    "grid_svc.fit(data.drop('churn', axis=1), data.churn)\n",
    "# For Decision Tree\n",
    "grid_tree.fit(data.drop('churn', axis=1), data.churn)\n",
    "# For Knn\n",
    "grid_neighb.fit(data.drop('churn', axis=1), data.churn)"
   ]
  },
  {
   "cell_type": "code",
   "execution_count": 15,
   "metadata": {},
   "outputs": [
    {
     "name": "stdout",
     "output_type": "stream",
     "text": [
      "#####################################\n",
      "# DecisionTree = 0.608138716404326\n",
      "#####################################\n",
      "# SVM SVC = 0.5\n",
      "#####################################\n",
      "# KNN = 0.5385341773169221\n",
      "#####################################\n"
     ]
    }
   ],
   "source": [
    "\n",
    "# =============================================================================\n",
    "# # The best results of ROC_AUC for each type of classifier.\n",
    "# =============================================================================\n",
    "print('#####################################')\n",
    "print('# DecisionTree =',grid_tree.best_score_)\n",
    "print('#####################################')\n",
    "print('# SVM SVC =',grid_svc.best_score_)\n",
    "print('#####################################')\n",
    "print('# KNN =',grid_neighb.best_score_)\n",
    "print('#####################################')"
   ]
  },
  {
   "cell_type": "code",
   "execution_count": null,
   "metadata": {},
   "outputs": [],
   "source": []
  }
 ],
 "metadata": {
  "kernelspec": {
   "display_name": "Python 3",
   "language": "python",
   "name": "python3"
  },
  "language_info": {
   "codemirror_mode": {
    "name": "ipython",
    "version": 3
   },
   "file_extension": ".py",
   "mimetype": "text/x-python",
   "name": "python",
   "nbconvert_exporter": "python",
   "pygments_lexer": "ipython3",
   "version": "3.6.4"
  }
 },
 "nbformat": 4,
 "nbformat_minor": 2
}
